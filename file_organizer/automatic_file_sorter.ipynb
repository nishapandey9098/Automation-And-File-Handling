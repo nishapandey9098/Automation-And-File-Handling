{
 "cells": [
  {
   "cell_type": "code",
   "execution_count": 31,
   "id": "caca74fa",
   "metadata": {},
   "outputs": [],
   "source": [
    "import os, shutil"
   ]
  },
  {
   "cell_type": "code",
   "execution_count": 32,
   "id": "5209daea",
   "metadata": {},
   "outputs": [],
   "source": [
    "path = r\"C:/Users/Nisha/Downloads/automated_file _sort/\""
   ]
  },
  {
   "cell_type": "code",
   "execution_count": 33,
   "id": "ecf1ed09",
   "metadata": {},
   "outputs": [],
   "source": [
    "file_name = os.listdir(path)"
   ]
  },
  {
   "cell_type": "code",
   "execution_count": 34,
   "id": "c319396d",
   "metadata": {},
   "outputs": [],
   "source": [
    "folder_names = ['excel_files', 'image_files', 'text_files']\n",
    "for loop in range(0,3):\n",
    "    if not os.path.exists(path + folder_names[loop]):\n",
    "        print(path + folder_names[loop])\n",
    "        os.makedirs((path + folder_names[loop]))"
   ]
  },
  {
   "cell_type": "code",
   "execution_count": 35,
   "id": "4a586c9b",
   "metadata": {},
   "outputs": [],
   "source": [
    "for file in file_name:\n",
    "    if \".xlsx\" in file and not os.path.exists(path + \"excel_files/\" + file):\n",
    "        shutil.move(path + file, path + \"excel_files/\" + file)\n",
    "    elif \".png\" in file and not os.path.exists(path + \"image_files/\" + file):\n",
    "        shutil.move(path + file, path + \"image_files/\" + file)\n",
    "    elif \".txt\" in file and not os.path.exists(path + \"text_files/\" + file):\n",
    "        shutil.move(path + file, path + \"text_files/\" + file) \n",
    "    elif \".jpg\" in file and not os.path.exists(path + \"image_files/\" + file):\n",
    "        shutil.move(path + file, path + \"image_files/\" + file)  \n",
    "    "
   ]
  }
 ],
 "metadata": {
  "kernelspec": {
   "display_name": "Python 3",
   "language": "python",
   "name": "python3"
  },
  "language_info": {
   "codemirror_mode": {
    "name": "ipython",
    "version": 3
   },
   "file_extension": ".py",
   "mimetype": "text/x-python",
   "name": "python",
   "nbconvert_exporter": "python",
   "pygments_lexer": "ipython3",
   "version": "3.13.7"
  }
 },
 "nbformat": 4,
 "nbformat_minor": 5
}
